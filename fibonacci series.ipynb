{
 "cells": [
  {
   "cell_type": "code",
   "execution_count": null,
   "id": "e996b34f-f879-48b2-a5c0-f2753367467f",
   "metadata": {},
   "outputs": [],
   "source": [
    "fibonacci_array = [0, 1]\n",
    "a = 0\n",
    "b = 1\n",
    "while ((a+b)<10000):\n",
    "    a, b = b, a+b\n",
    "    fibonacci_array.append(b)\n",
    "    \n",
    "print(fibonacci_array)\n",
    "import math\n",
    "\n",
    "prime_array = []\n",
    "\n",
    "def isPrime(number):\n",
    "    d = 2\n",
    "    while( d <= math.sqrt(number)):\n",
    "        if (number%d == 0):\n",
    "            return False\n",
    "        d += 1\n",
    "        \n",
    "    if (d > math.sqrt(number)):\n",
    "        return True\n",
    "    \n",
    "print('List before: ')\n",
    "print(prime_array)\n",
    "\n",
    "for i in range(2,10000,1):\n",
    "    if(isPrime(i)) :\n",
    "        prime_array.append(i)\n",
    "        \n",
    "print('List after: ')\n",
    "print(prime_array)\n",
    "sentences = [\"I am not a boy\",\"I am not a girl\",\"I am not a man\",\"I am not a woman\"]\n",
    "\n",
    "for i in sentences:\n",
    "    length = 0\n",
    "    word_length = 1\n",
    "    for j in i:\n",
    "        length += 1\n",
    "        if (j.isalnum() and  not(i[length-2].isalnum())):\n",
    "            word_length += 1\n",
    "    print(i, '\\nLength: ', length, '\\nWord Length: ', word_length)\n",
    "\n"
   ]
  }
 ],
 "metadata": {
  "kernelspec": {
   "display_name": "Python 3 (ipykernel)",
   "language": "python",
   "name": "python3"
  },
  "language_info": {
   "codemirror_mode": {
    "name": "ipython",
    "version": 3
   },
   "file_extension": ".py",
   "mimetype": "text/x-python",
   "name": "python",
   "nbconvert_exporter": "python",
   "pygments_lexer": "ipython3",
   "version": "3.11.0"
  }
 },
 "nbformat": 4,
 "nbformat_minor": 5
}
